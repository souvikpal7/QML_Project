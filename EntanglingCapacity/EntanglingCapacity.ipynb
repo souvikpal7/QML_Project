{
 "cells": [
  {
   "cell_type": "markdown",
   "metadata": {},
   "source": [
    "# Code to measure Entangling capacity of any Parameterized Quantum Circuit"
   ]
  },
  {
   "cell_type": "markdown",
   "metadata": {},
   "source": [
    "Sim et.al. in [1] proposed three metrics to represent Ansatz quality of variational circuits namely: Expressibility, Entangling capacity and circuit cost. This notebook implements the Entangling capacity metric that is very useful for any parameterized quantum circuit (or ansatz) for any variational quantum algorithm. While for some domain like physics or chemistry, there are domain-inspired ansatzes, for all other applications the choice of circuits is heuristic-based. With metrics like entangling capacity we can do correlation studies between such metrics and accuracy or precision-recall of an application and accordingly choose an ansatz for the variational algorithm in consideration for that application.\n",
    "\n",
    "In this notebook we have implemented these metrics and matched our numbers to that of this paper. We have two ways to compute Entangling capacity -using Meyer Wallach measure (as proposed in the paper[1]) and Von-Neumann measure."
   ]
  },
  {
   "cell_type": "code",
   "execution_count": 27,
   "metadata": {},
   "outputs": [],
   "source": [
    "from qiskit.quantum_info import partial_trace, Statevector\n",
    "from parametric_circuits import Ansatz\n",
    "from qiskit import QuantumCircuit\n",
    "import qiskit.quantum_info as qi\n",
    "from qiskit import transpile\n",
    "import numpy as np\n",
    "import pandas as pd\n",
    "import matplotlib.pyplot as plt\n"
   ]
  },
  {
   "cell_type": "markdown",
   "metadata": {},
   "source": [
    "The following cell implements entangling capacity using meyer-wallach measure for a statevector. It expects as input the statevector of $n$ qubits and the total number of qubits $n$ for calculating the the entangling capacity of a particular statevector using Meyer Wallach Measure.\n",
    "Meyer Wallach measure (this measure is also know as average bipartite entanglement measurement) and is defined by \n",
    "$\n",
    "\\begin{equation}\n",
    "    \\mathcal{Q}(|\\psi\\rangle) = 2 - \\frac{2}{n}\\sum_{i =1}^{n}Tr(\\rho_i^2)\n",
    "\\end{equation}\n",
    "$\n",
    "The above equation is the entanglement measurement over just one statevector of the system to get the entangling capability of a parameteric quantum circuit as given in paper[1], we sample over several iteration with different random parameters for the parametric gates and average it to the get the expectation of the entangling capability of the circuit with respect to Meyer - Wallach Measure.\n",
    "The key properties of using Meyer Wallach measure to calculate entangling capacity metric :\n",
    "\n",
    " 1. The value $\\mathcal{Q}$ is invariant under local unitaries.\n",
    " 2. It assumes it values between the range $0 \\ge \\mathcal{Q} \\le 1 $.\n",
    " 3. $\\mathcal{Q}(|\\psi\\rangle) = 0$ if and only if $|\\psi\\rangle$ is a product state.\n",
    "\n",
    " The Meyer-Wallach Measure find its application in quantum information processing due to following advantages:\n",
    " 1. Due to its nature its a average linear entropy over reduced qubits state i.e. $\\mathcal{Q} = \\{1 - tr\\{\\rho^2\\}\\}$, making it a standard measure over different applications and easy to compare  and comprehend values due to its linear scaling.\n",
    " 2. The Meyer-Wallach Measure can be applied as a tool for tracking convergence of pseudo-random circuit by comparing the Meyer Wallach Measure with respect to the the Haar Value(The average entanglement of Pseudo Random states $\\langle \\mathcal{Q}_R \\rangle$).\n",
    " 3. The Meyer-Wallach Measure gives us the global entanglement over the entire statevector. The average over the Parametric Quantum Circuit gives use the measure of the circuit give a quantification of the toal type and number of entangles states a particular circuit can generate.\n"
   ]
  },
  {
   "cell_type": "code",
   "execution_count": 28,
   "metadata": {},
   "outputs": [],
   "source": [
    "def compute_ptrace(ket: np.ndarray, num_qubits: int) -> float:\n",
    "    \"\"\"Return the values of entanglement capability using meyer-wallach measure.\n",
    "    Args:\n",
    "        ket : (numpy.ndarray or list);Vector of amplitudes in 2**N dimensions\n",
    "        num_qubits : (int)Number of qubits\n",
    "\n",
    "    Returns:\n",
    "        q: float; Q value for input ket\n",
    "    \"\"\"\n",
    "    \n",
    "\n",
    "    entanglement_sum = 0\n",
    "    for k in range(num_qubits):\n",
    "\n",
    "        trace_over = [q for q in range(num_qubits) if q != k]\n",
    "        rho_k = partial_trace(ket, trace_over).data\n",
    "        entanglement_sum += np.real((np.linalg.matrix_power(rho_k, 2)).trace())\n",
    "\n",
    "    q = 2 * (1 - (1 / num_qubits) * entanglement_sum)\n",
    "\n",
    "    return q\n"
   ]
  },
  {
   "cell_type": "markdown",
   "metadata": {},
   "source": [
    "The following cell implements entangling capacity using Von-Neumann entropy measure. It expects as input the statevector of $n$ qubits and the total number of qubits $n$ for calculating the the entangling capacity of a particular statevector using Von-Neumann Measure.\n",
    "Von-Neumann Measure measure (this measure is also know as Von-Neumann Shanon Entropy) and is defined by \n",
    "$\n",
    "\\begin{equation}\n",
    "    \\mathcal{Q}(|\\psi\\rangle) = -\\sum_{i=1}^{n}Tr\\{\\rho_i log_e (\\rho_i)\\}\n",
    "\\end{equation}\n",
    "$\n",
    "The Von-Neumann Measure find its application in quantum information processing due to following advantages:\n",
    "1. It gives the  local entanglement measure of each qubit by taking the partial trace of reduce density matric given an average over the entanglement capability over the different qubits in a particular statevector.\n",
    "2. This measure give different measure for different kinds of entanglement for e.g. $|\\psi\\rangle = \\frac{|00\\rangle_{1,2}+|11\\rangle_{1,2}}{\\sqrt{2}}\\otimes\\frac{|00\\rangle_{3,4}+|11\\rangle_{3,4}}{\\sqrt{2}}$ and the four qubit $GHZ$ state, the four qubit GHZ state give us a higher entanglement measure in the von-neumann measure as compared to Meyer-Wallach measure(which give 1 for both the states.). Hence, it is better able to distinguish between the different kinds of entanglement.\n"
   ]
  },
  {
   "cell_type": "code",
   "execution_count": 29,
   "metadata": {},
   "outputs": [],
   "source": [
    "def compute_vn_entropy(ket: np.ndarray, num_qubits: int) -> float:\n",
    "    \"\"\"Returns the entangling capabilility using von-neumann entropy.\n",
    "    Args:\n",
    "        ket : (numpy.ndarray or list);Vector of amplitudes in 2**N dimensions\n",
    "        num_qubits : (int)Number of qubits\n",
    "\n",
    "    Returns:\n",
    "        q: float; Q value for input ket\n",
    "    \"\"\"\n",
    "\n",
    "\n",
    "    qubit = list(range(num_qubits))  # list of qubits to trace over\n",
    "\n",
    "    vn_entropy = 0\n",
    "\n",
    "    for k in range(num_qubits):\n",
    "        rho_k = qi.partial_trace(ket, qubit[:k] + qubit[k + 1 :]).data\n",
    "        vn_entropy += qi.entropy(rho_k, base=np.exp(1))\n",
    "    q = vn_entropy / num_qubits\n",
    "    return q"
   ]
  },
  {
   "cell_type": "markdown",
   "metadata": {},
   "source": [
    "The following cells computes entanglement capacity given a parametric circuit, using Meyer Wallach Measure by sampling over different parameter values of the parametric quantum gates to give us an average measure of the Meyer Wallach measure we can expect from a particular parametric quantum circuit.\n",
    "The function takes as input the total no. of parameters which is also the number of samples , the parametric circuit whose entanglement measure we want to calculate and the backend which we want to use.\n",
    "Note: We can only use statevector backend to calculate the Entanglement measures."
   ]
  },
  {
   "cell_type": "code",
   "execution_count": 30,
   "metadata": {},
   "outputs": [],
   "source": [
    "def meyer_wallach(num_params, feature_dim, layers, circuit_id) -> float:\n",
    "        \"\"\"\n",
    "        Returns:\n",
    "                net_entanglement_cap: The meyer-wallach entangling capacity of the\n",
    "                                       given parametric circuit.\n",
    "        \"\"\"\n",
    "\n",
    "        entanglement_cap = []\n",
    "\n",
    "        for _ in range(num_params):\n",
    "            \n",
    "            parametric_circuit = Ansatz(layers + 1, feature_dim, circuit_id).get_ansatz()\n",
    "            state_vector = Statevector(parametric_circuit)\n",
    "            state_vector = np.array(state_vector)\n",
    "            q_value = compute_ptrace(ket=state_vector, num_qubits=feature_dim)\n",
    "            entanglement_cap.append(q_value)\n",
    "\n",
    "        entanglement_cap = np.array(entanglement_cap)\n",
    "        net_entanglement_cap = np.sum(entanglement_cap) / num_params\n",
    "\n",
    "        return net_entanglement_cap"
   ]
  },
  {
   "cell_type": "markdown",
   "metadata": {},
   "source": [
    "The following cells computes entanglement capacity given a parametric circuit, using Von-Neumann Measure by sampling over different parameter values of the parametric quantum gates to give us an average measure of the Von-Neumann measure we can expect from a particular parametric quantum circuit.\n",
    "The function takes as input the total no. of parameters which is also the number of samples , the parametric circuit whose entanglement measure we want to calculate and the backend which we want to use.\n",
    "Note: We can only use statevector backend to calculate the Entanglement measures."
   ]
  },
  {
   "cell_type": "code",
   "execution_count": 31,
   "metadata": {},
   "outputs": [],
   "source": [
    "def von_neumann(num_params,  feature_dim, layers, circuit_id) -> float:\n",
    "\n",
    "        \"\"\"\n",
    "        Returns:\n",
    "              net_entanglement_cap: The von_neumann entangling capacity of the given parametric circuit.\n",
    "        \"\"\"\n",
    "\n",
    "        entanglement_cap = []\n",
    "\n",
    "        for _ in range(num_params):\n",
    "\n",
    "            parametric_circuit = Ansatz(layers + 1, feature_dim, circuit_id).get_ansatz()\n",
    "            state_vector = Statevector(parametric_circuit).data\n",
    "            state_vector = np.array(state_vector)\n",
    "            q_value = compute_vn_entropy(ket=state_vector, num_qubits=feature_dim)\n",
    "            entanglement_cap.append(q_value)\n",
    "\n",
    "        entanglement_cap = np.array(entanglement_cap)\n",
    "        net_entanglement_cap = np.sum(entanglement_cap) / num_params\n",
    "\n",
    "        return net_entanglement_cap"
   ]
  },
  {
   "cell_type": "markdown",
   "metadata": {},
   "source": [
    "In order to be able to reproduce the results of the paper [1], we provide an additional code ansatz.py which has the 19 parameterized quantum circuits given in the paper. The following cell calculates the entanglinhg capacity of all the 19 circuits. \n",
    "circuit_id can be used if a particular ansatz from the benchmarked ansatz is required. else we can do it for all ansatzes of that code.\n",
    "\n",
    "feature dim: refers to the number of features in the input data. this is important to know as this determines the number of qubits in the circuit for Z and ZZ feature map. \n",
    "\n",
    "repetition: refers to the number of layers of ansatz required. Note: deeper ansatz get more noisy and circuit depth impacts results.\n",
    "\n",
    "num_eval: refers to the number of runs needed for the circuits. "
   ]
  },
  {
   "cell_type": "code",
   "execution_count": null,
   "metadata": {},
   "outputs": [],
   "source": [
    "from parametric_circuits import Ansatz\n",
    "import numpy as np\n",
    "import pandas as pd\n",
    "\n",
    "\n",
    "total_circuit = 10\n",
    "feature_dim = 4\n",
    "repitition = 5\n",
    "entanglement_cap = np.zeros((total_circuit, repitition))\n",
    "\n",
    "\n",
    "for i in range(total_circuit):\n",
    "    circuit_id = i + 1\n",
    "\n",
    "    for layers in range(repitition):\n",
    "\n",
    "        \n",
    "        ent_cap = meyer_wallach(num_params = 100, feature_dim = feature_dim, layers = layers, circuit_id = circuit_id)\n",
    "        entanglement_cap[i, layers] = ent_cap\n",
    "\n",
    "index = [\"Ansatz \"+str(i+1) for i in range(total_circuit)]\n",
    "df = pd.DataFrame({'Layer1':entanglement_cap[:,0], \"Layer2\":entanglement_cap[:,1], \"Layer3\":entanglement_cap[:,2],\n",
    "                   \"Layer4\":entanglement_cap[:,3],\"Layer5\":entanglement_cap[:,4]}, index = index)\n",
    "file_name = \"entropy_run_5_Layers\" \n",
    "df.to_csv(file_name + \".csv\")"
   ]
  },
  {
   "cell_type": "code",
   "execution_count": 25,
   "metadata": {},
   "outputs": [
    {
     "data": {
      "text/html": [
       "<div>\n",
       "<style scoped>\n",
       "    .dataframe tbody tr th:only-of-type {\n",
       "        vertical-align: middle;\n",
       "    }\n",
       "\n",
       "    .dataframe tbody tr th {\n",
       "        vertical-align: top;\n",
       "    }\n",
       "\n",
       "    .dataframe thead th {\n",
       "        text-align: right;\n",
       "    }\n",
       "</style>\n",
       "<table border=\"1\" class=\"dataframe\">\n",
       "  <thead>\n",
       "    <tr style=\"text-align: right;\">\n",
       "      <th></th>\n",
       "      <th>Unnamed: 0</th>\n",
       "      <th>Layer1</th>\n",
       "      <th>Layer2</th>\n",
       "      <th>Layer3</th>\n",
       "      <th>Layer4</th>\n",
       "      <th>Layer5</th>\n",
       "    </tr>\n",
       "  </thead>\n",
       "  <tbody>\n",
       "    <tr>\n",
       "      <th>0</th>\n",
       "      <td>Ansatz 1</td>\n",
       "      <td>1.132427e-16</td>\n",
       "      <td>-4.218847e-17</td>\n",
       "      <td>-4.329870e-16</td>\n",
       "      <td>-6.172840e-16</td>\n",
       "      <td>-5.995204e-17</td>\n",
       "    </tr>\n",
       "    <tr>\n",
       "      <th>1</th>\n",
       "      <td>Ansatz 2</td>\n",
       "      <td>5.401581e-01</td>\n",
       "      <td>5.556001e-01</td>\n",
       "      <td>6.900341e-01</td>\n",
       "      <td>6.438951e-01</td>\n",
       "      <td>6.726030e-01</td>\n",
       "    </tr>\n",
       "    <tr>\n",
       "      <th>2</th>\n",
       "      <td>Ansatz 3</td>\n",
       "      <td>4.720906e-02</td>\n",
       "      <td>1.204134e-01</td>\n",
       "      <td>1.817087e-01</td>\n",
       "      <td>2.231124e-01</td>\n",
       "      <td>2.382670e-01</td>\n",
       "    </tr>\n",
       "    <tr>\n",
       "      <th>3</th>\n",
       "      <td>Ansatz 4</td>\n",
       "      <td>8.341888e-02</td>\n",
       "      <td>1.888078e-01</td>\n",
       "      <td>3.073650e-01</td>\n",
       "      <td>3.397621e-01</td>\n",
       "      <td>3.802105e-01</td>\n",
       "    </tr>\n",
       "    <tr>\n",
       "      <th>4</th>\n",
       "      <td>Ansatz 5</td>\n",
       "      <td>2.223875e-01</td>\n",
       "      <td>3.931126e-01</td>\n",
       "      <td>4.454848e-01</td>\n",
       "      <td>4.625990e-01</td>\n",
       "      <td>4.391473e-01</td>\n",
       "    </tr>\n",
       "    <tr>\n",
       "      <th>5</th>\n",
       "      <td>Ansatz 6</td>\n",
       "      <td>2.530011e-01</td>\n",
       "      <td>4.370052e-01</td>\n",
       "      <td>4.661679e-01</td>\n",
       "      <td>5.276274e-01</td>\n",
       "      <td>5.585503e-01</td>\n",
       "    </tr>\n",
       "    <tr>\n",
       "      <th>6</th>\n",
       "      <td>Ansatz 7</td>\n",
       "      <td>7.516283e-02</td>\n",
       "      <td>1.609968e-01</td>\n",
       "      <td>2.594939e-01</td>\n",
       "      <td>3.152684e-01</td>\n",
       "      <td>3.666315e-01</td>\n",
       "    </tr>\n",
       "    <tr>\n",
       "      <th>7</th>\n",
       "      <td>Ansatz 8</td>\n",
       "      <td>8.999807e-02</td>\n",
       "      <td>2.076772e-01</td>\n",
       "      <td>2.773615e-01</td>\n",
       "      <td>3.431136e-01</td>\n",
       "      <td>4.149008e-01</td>\n",
       "    </tr>\n",
       "    <tr>\n",
       "      <th>8</th>\n",
       "      <td>Ansatz 9</td>\n",
       "      <td>1.000000e+00</td>\n",
       "      <td>1.000000e+00</td>\n",
       "      <td>1.000000e+00</td>\n",
       "      <td>5.924633e-01</td>\n",
       "      <td>6.888367e-01</td>\n",
       "    </tr>\n",
       "    <tr>\n",
       "      <th>9</th>\n",
       "      <td>Ansatz 10</td>\n",
       "      <td>3.865358e-01</td>\n",
       "      <td>6.801451e-01</td>\n",
       "      <td>8.198149e-01</td>\n",
       "      <td>7.264927e-01</td>\n",
       "      <td>7.441896e-01</td>\n",
       "    </tr>\n",
       "  </tbody>\n",
       "</table>\n",
       "</div>"
      ],
      "text/plain": [
       "  Unnamed: 0        Layer1        Layer2        Layer3        Layer4  \\\n",
       "0   Ansatz 1  1.132427e-16 -4.218847e-17 -4.329870e-16 -6.172840e-16   \n",
       "1   Ansatz 2  5.401581e-01  5.556001e-01  6.900341e-01  6.438951e-01   \n",
       "2   Ansatz 3  4.720906e-02  1.204134e-01  1.817087e-01  2.231124e-01   \n",
       "3   Ansatz 4  8.341888e-02  1.888078e-01  3.073650e-01  3.397621e-01   \n",
       "4   Ansatz 5  2.223875e-01  3.931126e-01  4.454848e-01  4.625990e-01   \n",
       "5   Ansatz 6  2.530011e-01  4.370052e-01  4.661679e-01  5.276274e-01   \n",
       "6   Ansatz 7  7.516283e-02  1.609968e-01  2.594939e-01  3.152684e-01   \n",
       "7   Ansatz 8  8.999807e-02  2.076772e-01  2.773615e-01  3.431136e-01   \n",
       "8   Ansatz 9  1.000000e+00  1.000000e+00  1.000000e+00  5.924633e-01   \n",
       "9  Ansatz 10  3.865358e-01  6.801451e-01  8.198149e-01  7.264927e-01   \n",
       "\n",
       "         Layer5  \n",
       "0 -5.995204e-17  \n",
       "1  6.726030e-01  \n",
       "2  2.382670e-01  \n",
       "3  3.802105e-01  \n",
       "4  4.391473e-01  \n",
       "5  5.585503e-01  \n",
       "6  3.666315e-01  \n",
       "7  4.149008e-01  \n",
       "8  6.888367e-01  \n",
       "9  7.441896e-01  "
      ]
     },
     "execution_count": 25,
     "metadata": {},
     "output_type": "execute_result"
    }
   ],
   "source": [
    "df = pd.read_csv('entropy_run_5_Layers.csv')\n",
    "df"
   ]
  },
  {
   "cell_type": "markdown",
   "metadata": {},
   "source": [
    "to Plot Entangling Capacity of all 10 circuits across 5 layers. Observe how entangling capacity increases with increasing the mumber of layers which is intuitive as the number of entangling gates also increase"
   ]
  },
  {
   "cell_type": "code",
   "execution_count": 9,
   "metadata": {},
   "outputs": [
    {
     "data": {
      "image/png": "[encoded data removed]",
      "text/plain": [
       "<Figure size 720x576 with 1 Axes>"
      ]
     },
     "metadata": {
      "needs_background": "light"
     },
     "output_type": "display_data"
    }
   ],
   "source": [
    "# import seaborn as sns\n",
    "ax = plt.gca()\n",
    "color = ['green', 'blue', 'orange', 'red', 'yellow']\n",
    "for i in range(5):\n",
    "    df.reset_index().plot.scatter(x = 'index', y = 'Layer'+str(i+1), color = color[i],marker = 'o', label = 'layer '+str(i+1), figsize = (10,8), grid = True, ax = ax)\n",
    "\n",
    "ax.set_xlabel('Circuit Id')\n",
    "ax.set_ylabel('Meyer-Wallach Measure')\n",
    "plt.show()\n",
    "\n"
   ]
  }
 ],
 "metadata": {
  "kernelspec": {
   "display_name": "Python 3 (ipykernel)",
   "language": "python",
   "name": "python3"
  },
  "language_info": {
   "codemirror_mode": {
    "name": "ipython",
    "version": 3
   },
   "file_extension": ".py",
   "mimetype": "text/x-python",
   "name": "python",
   "nbconvert_exporter": "python",
   "pygments_lexer": "ipython3",
   "version": "3.8.8"
  },
  "vscode": {
   "interpreter": {
    "hash": "7d3b8b0b17a73b27c675ad731f7f973f58a06bce747a783740f7b6d647f60952"
   }
  }
 },
 "nbformat": 4,
 "nbformat_minor": 2
}
