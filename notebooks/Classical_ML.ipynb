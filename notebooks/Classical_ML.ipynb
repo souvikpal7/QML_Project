{
 "cells": [
  {
   "cell_type": "code",
   "execution_count": 17,
   "metadata": {},
   "outputs": [],
   "source": [
    "from sklearn.model_selection import train_test_split\n",
    "import os\n",
    "import numpy as np"
   ]
  },
  {
   "cell_type": "code",
   "execution_count": 18,
   "metadata": {},
   "outputs": [],
   "source": [
    "PROJ_HOME = r\"C:\\Users\\conta\\D\\MTech\\sem5\\QML\\project\\notebooks\"\n",
    "data_dir = os.path.join(PROJ_HOME, \"rice_UCI\")\n",
    "X_scaled_path = os.path.join(data_dir, \"rice_scaled.npy\")\n",
    "y_path = os.path.join(data_dir, \"labels.npy\")"
   ]
  },
  {
   "cell_type": "code",
   "execution_count": 19,
   "metadata": {},
   "outputs": [],
   "source": [
    "def load_np_data(np_obj_path):\n",
    "    assert os.path.exists(np_obj_path), \"Path does not exists\"\n",
    "    with open(np_obj_path, \"rb\") as file:\n",
    "        var = np.load(file, allow_pickle=True)\n",
    "    return var"
   ]
  },
  {
   "cell_type": "code",
   "execution_count": 20,
   "metadata": {},
   "outputs": [
    {
     "name": "stdout",
     "output_type": "stream",
     "text": [
      "X_enc shape: (3810, 7)\n",
      "\n",
      "Y shape: (3810,)\n"
     ]
    }
   ],
   "source": [
    "X_enc = load_np_data(X_scaled_path)\n",
    "print(f\"X_enc shape: {X_enc.shape}\")\n",
    "\n",
    "print()\n",
    "Y = load_np_data(y_path)\n",
    "print(f\"Y shape: {Y.shape}\")"
   ]
  },
  {
   "cell_type": "code",
   "execution_count": 21,
   "metadata": {},
   "outputs": [
    {
     "name": "stdout",
     "output_type": "stream",
     "text": [
      "(2857, 7)\n",
      "(2857,)\n",
      "(50, 7)\n",
      "(50,)\n"
     ]
    }
   ],
   "source": [
    "X_train, X_test, Y_train, Y_test = train_test_split(X_enc, Y, random_state=711)\n",
    "\n",
    "X_test = X_test[:50]\n",
    "Y_test = Y_test[:50]\n",
    "\n",
    "print(X_train.shape)\n",
    "print(Y_train.shape)\n",
    "print(X_test.shape)\n",
    "print(Y_test.shape)"
   ]
  },
  {
   "cell_type": "code",
   "execution_count": 22,
   "metadata": {},
   "outputs": [],
   "source": [
    "from sklearn.svm import SVC\n",
    "from sklearn.model_selection import RandomizedSearchCV"
   ]
  },
  {
   "cell_type": "code",
   "execution_count": 23,
   "metadata": {},
   "outputs": [
    {
     "name": "stderr",
     "output_type": "stream",
     "text": [
      "C:\\Users\\conta\\AppData\\Roaming\\Python\\Python310\\site-packages\\sklearn\\model_selection\\_split.py:737: UserWarning: The least populated class in y has only 3 members, which is less than n_splits=5.\n",
      "  warnings.warn(\n"
     ]
    },
    {
     "name": "stdout",
     "output_type": "stream",
     "text": [
      "Best parameters: {'kernel': 'linear', 'C': 1.5}\n",
      "0.9\n"
     ]
    }
   ],
   "source": [
    "h_params = {\n",
    "    'C': [0.5, 0.75, 1.0, 1.25, 1.5, 1.75],\n",
    "    'kernel': ['linear', 'poly', 'rbf']\n",
    "}\n",
    "\n",
    "clf = RandomizedSearchCV(SVC(), h_params, random_state=711)\n",
    "# svm_clf = SVC(C=1.0, kernel=\"rbf\")\n",
    "# svm_clf.fit(X_train, Y_train)\n",
    "# test_score = svm_clf.score(X_test, Y_test)\n",
    "clf.fit(X_train[:10], Y_train[:10])\n",
    "print(f\"Best parameters: {clf.best_params_}\")\n",
    "test_score = clf.score(X_test, Y_test)\n",
    "print(test_score)"
   ]
  },
  {
   "cell_type": "code",
   "execution_count": 24,
   "metadata": {},
   "outputs": [
    {
     "name": "stdout",
     "output_type": "stream",
     "text": [
      "Best parameters: {'kernel': 'poly', 'C': 1.25}\n",
      "0.88\n"
     ]
    }
   ],
   "source": [
    "h_params = {\n",
    "    'C': [0.5, 0.75, 1.0, 1.25, 1.5, 1.75],\n",
    "    'kernel': ['linear', 'poly', 'rbf']\n",
    "}\n",
    "\n",
    "clf = RandomizedSearchCV(SVC(), h_params, random_state=711)\n",
    "# svm_clf = SVC(C=1.0, kernel=\"rbf\")\n",
    "# svm_clf.fit(X_train, Y_train)\n",
    "# test_score = svm_clf.score(X_test, Y_test)\n",
    "clf.fit(X_train[:50], Y_train[:50])\n",
    "print(f\"Best parameters: {clf.best_params_}\")\n",
    "test_score = clf.score(X_test, Y_test)\n",
    "print(test_score)"
   ]
  },
  {
   "cell_type": "code",
   "execution_count": null,
   "metadata": {},
   "outputs": [],
   "source": []
  }
 ],
 "metadata": {
  "kernelspec": {
   "display_name": "qml1",
   "language": "python",
   "name": "python3"
  },
  "language_info": {
   "codemirror_mode": {
    "name": "ipython",
    "version": 3
   },
   "file_extension": ".py",
   "mimetype": "text/x-python",
   "name": "python",
   "nbconvert_exporter": "python",
   "pygments_lexer": "ipython3",
   "version": "3.10.14"
  }
 },
 "nbformat": 4,
 "nbformat_minor": 2
}
