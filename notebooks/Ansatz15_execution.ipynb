{
 "cells": [
  {
   "cell_type": "code",
   "execution_count": null,
   "metadata": {},
   "outputs": [],
   "source": [
    "import sys\n",
    "sys.path.append(r\"C:\\Users\\conta\\D\\MTech\\sem5\\QML\\project\\qml_proj\")"
   ]
  },
  {
   "cell_type": "code",
   "execution_count": null,
   "metadata": {},
   "outputs": [],
   "source": [
    "data_dir = r\"C:\\Users\\conta\\D\\MTech\\sem5\\QML\\project\\notebooks\\rice_UCI\""
   ]
  },
  {
   "cell_type": "code",
   "execution_count": null,
   "metadata": {},
   "outputs": [],
   "source": [
    "import os\n",
    "import numpy as np\n",
    "import matplotlib.pyplot as plt\n",
    "from sklearn.model_selection import train_test_split\n",
    "\n",
    "from qiskit_algorithms.optimizers import COBYLA\n",
    "from qiskit_ibm_runtime import QiskitRuntimeService\n",
    "from qiskit_machine_learning.algorithms.classifiers import NeuralNetworkClassifier\n",
    "from TranspiledCircuit.TranspiledQNN import TranspiledQNN\n",
    "from CustomQNN.Custom import CustomEstimatorQNN\n",
    "import warnings\n",
    "warnings.filterwarnings('ignore')\n"
   ]
  },
  {
   "cell_type": "code",
   "execution_count": null,
   "metadata": {},
   "outputs": [],
   "source": [
    "# api_token = r\"your_api_key_here\"\n",
    "# service = QiskitRuntimeService(\n",
    "#     channel= \"ibm_quantum\",\n",
    "#     token= api_token\n",
    "# )\n",
    "\n",
    "# QiskitRuntimeService.save_account(channel= \"ibm_quantum\", token=api_token)"
   ]
  },
  {
   "cell_type": "code",
   "execution_count": null,
   "metadata": {},
   "outputs": [],
   "source": [
    "service = QiskitRuntimeService(channel=\"ibm_quantum\")"
   ]
  },
  {
   "cell_type": "code",
   "execution_count": null,
   "metadata": {},
   "outputs": [],
   "source": [
    "backend = service.backend(name='ibmq_qasm_simulator')"
   ]
  },
  {
   "cell_type": "code",
   "execution_count": null,
   "metadata": {},
   "outputs": [],
   "source": [
    "X_scaled_path = os.path.join(data_dir, \"rice_scaled.npy\")\n",
    "y_path = os.path.join(data_dir, \"labels.npy\")"
   ]
  },
  {
   "cell_type": "code",
   "execution_count": null,
   "metadata": {},
   "outputs": [],
   "source": [
    "def load_np_data(np_obj_path):\n",
    "    assert os.path.exists(np_obj_path), \"Path does not exists\"\n",
    "    with open(np_obj_path, \"rb\") as file:\n",
    "        var = np.load(file, allow_pickle=True)\n",
    "    return var"
   ]
  },
  {
   "cell_type": "code",
   "execution_count": null,
   "metadata": {},
   "outputs": [],
   "source": [
    "X_enc = load_np_data(X_scaled_path)\n",
    "print(f\"X_enc shape: {X_enc.shape}\")\n",
    "\n",
    "print()\n",
    "Y = load_np_data(y_path)\n",
    "print(f\"Y shape: {Y.shape}\")"
   ]
  },
  {
   "cell_type": "code",
   "execution_count": null,
   "metadata": {},
   "outputs": [],
   "source": [
    "X_train, X_test, Y_train, Y_test = train_test_split(X_enc, Y, random_state=711)\n",
    "X_train = X_train[:10]\n",
    "Y_train = Y_train[:10]\n",
    "\n",
    "X_test = X_test[:50]\n",
    "Y_test = Y_test[:50]\n",
    "\n",
    "print(X_train.shape)\n",
    "print(Y_train.shape)\n",
    "print(X_test.shape)\n",
    "print(Y_test.shape)\n"
   ]
  },
  {
   "cell_type": "code",
   "execution_count": null,
   "metadata": {},
   "outputs": [],
   "source": [
    "Y_train = np.where(Y_train==0, -1, 1)\n",
    "Y_test = np.where(Y_test==0, -1, 1)"
   ]
  },
  {
   "cell_type": "markdown",
   "metadata": {},
   "source": [
    "## Classification Using Custom EstimatorQNN"
   ]
  },
  {
   "cell_type": "markdown",
   "metadata": {},
   "source": [
    "### Section 1 <br> In Below Section Ansatz is used with **Angle Encoding** and Repetation value of **2**"
   ]
  },
  {
   "cell_type": "code",
   "execution_count": null,
   "metadata": {},
   "outputs": [],
   "source": [
    "ANSATZ_NAME = \"ansatz15\"\n",
    "ENCODING = [\"angle\", \"angle\", \"zz\"]\n",
    "DEPTH = [2, 5, 5]"
   ]
  },
  {
   "cell_type": "code",
   "execution_count": null,
   "metadata": {},
   "outputs": [],
   "source": [
    "ip_dim = X_train.shape[1]\n",
    "trans_crc = TranspiledQNN(ip_dim, ENCODING[0], ANSATZ_NAME, DEPTH[0], backend)\n",
    "trans_crc_qc = trans_crc.get_circuit()\n",
    "trans_layout = trans_crc.get_circuit_layout()"
   ]
  },
  {
   "cell_type": "code",
   "execution_count": null,
   "metadata": {},
   "outputs": [],
   "source": [
    "trans_crc_qc.draw(\"mpl\", style=\"clifford\")"
   ]
  },
  {
   "cell_type": "code",
   "execution_count": null,
   "metadata": {},
   "outputs": [],
   "source": [
    "cnt_wei_params = len(trans_crc_qc.weight_parameters)\n",
    "estimator_qnn = CustomEstimatorQNN(trans_crc_qc, service, backend)"
   ]
  },
  {
   "cell_type": "code",
   "execution_count": null,
   "metadata": {},
   "outputs": [],
   "source": [
    "objective_func_vals = []\n",
    "\n",
    "def saving_obj_vals(weights, obj_func_eval):\n",
    "    objective_func_vals.append(obj_func_eval)\n",
    "    "
   ]
  },
  {
   "cell_type": "code",
   "execution_count": null,
   "metadata": {},
   "outputs": [],
   "source": [
    "# construct neural network classifier\n",
    "estimator_classifier = NeuralNetworkClassifier(\n",
    "    estimator_qnn, \n",
    "    optimizer=COBYLA(maxiter=cnt_wei_params * 3), \n",
    "    callback=saving_obj_vals\n",
    ")\n"
   ]
  },
  {
   "cell_type": "code",
   "execution_count": null,
   "metadata": {},
   "outputs": [],
   "source": [
    "# fit classifier to data\n",
    "estimator_classifier.fit(X_train[:15], Y_train[:15])\n",
    "\n",
    "# score classifier\n",
    "test_score1 = estimator_classifier.score(X_test, Y_test)\n",
    "print(f\"Test score: {test_score1}\")"
   ]
  },
  {
   "cell_type": "code",
   "execution_count": null,
   "metadata": {},
   "outputs": [],
   "source": [
    "plt.plot(range(1, len(objective_func_vals) + 1), objective_func_vals)\n",
    "plt.title(\"Objective function value against iteration\")\n",
    "plt.xlabel(\"Iteration\")\n",
    "plt.ylabel(\"Objective function value\")\n",
    "plt.show()"
   ]
  },
  {
   "cell_type": "markdown",
   "metadata": {},
   "source": [
    "### Section 2 <br> In Below Section Ansatz is used with **Angle Encoding** and Repetation value of **5**"
   ]
  },
  {
   "cell_type": "code",
   "execution_count": null,
   "metadata": {},
   "outputs": [],
   "source": [
    "ip_dim = X_train.shape[1]\n",
    "trans_crc = TranspiledQNN(ip_dim, ENCODING[1], ANSATZ_NAME, DEPTH[1], backend)\n",
    "trans_crc_qc = trans_crc.get_circuit()\n",
    "trans_layout = trans_crc.get_circuit_layout()"
   ]
  },
  {
   "cell_type": "code",
   "execution_count": null,
   "metadata": {},
   "outputs": [],
   "source": [
    "trans_crc_qc.draw(\"mpl\", style=\"clifford\")"
   ]
  },
  {
   "cell_type": "code",
   "execution_count": null,
   "metadata": {},
   "outputs": [],
   "source": [
    "objective_func_vals = []\n",
    "cnt_wei_params = len(trans_crc_qc.weight_parameters)\n",
    "estimator_qnn = CustomEstimatorQNN(trans_crc_qc, service, backend)\n",
    "\n",
    "# construct neural network classifier\n",
    "estimator_classifier = NeuralNetworkClassifier(\n",
    "    estimator_qnn, \n",
    "    optimizer=COBYLA(maxiter=cnt_wei_params * 3), \n",
    "    callback=saving_obj_vals\n",
    ")"
   ]
  },
  {
   "cell_type": "code",
   "execution_count": null,
   "metadata": {},
   "outputs": [],
   "source": [
    "# fit classifier to data\n",
    "estimator_classifier.fit(X_train[:15], Y_train[:15])\n",
    "\n",
    "# score classifier\n",
    "test_score2 = estimator_classifier.score(X_test, Y_test)\n",
    "print(f\"Test score: {test_score2}\")"
   ]
  },
  {
   "cell_type": "code",
   "execution_count": null,
   "metadata": {},
   "outputs": [],
   "source": [
    "plt.plot(range(1, len(objective_func_vals) + 1), objective_func_vals)\n",
    "plt.title(\"Objective function value against iteration\")\n",
    "plt.xlabel(\"Iteration\")\n",
    "plt.ylabel(\"Objective function value\")\n",
    "plt.show()"
   ]
  },
  {
   "cell_type": "markdown",
   "metadata": {},
   "source": [
    "### Section 3 <br> In Below Section Ansatz is used with **ZZ Encoding** and Repetation value of **5**"
   ]
  },
  {
   "cell_type": "code",
   "execution_count": null,
   "metadata": {},
   "outputs": [],
   "source": [
    "ip_dim = X_train.shape[1]\n",
    "trans_crc = TranspiledQNN(ip_dim, ENCODING[2], ANSATZ_NAME, DEPTH[2], backend)\n",
    "trans_crc_qc = trans_crc.get_circuit()\n",
    "trans_layout = trans_crc.get_circuit_layout()"
   ]
  },
  {
   "cell_type": "code",
   "execution_count": null,
   "metadata": {},
   "outputs": [],
   "source": [
    "trans_crc_qc.draw(\"mpl\", style=\"clifford\")"
   ]
  },
  {
   "cell_type": "code",
   "execution_count": null,
   "metadata": {},
   "outputs": [],
   "source": [
    "objective_func_vals = []\n",
    "cnt_wei_params = len(trans_crc_qc.weight_parameters)\n",
    "estimator_qnn = CustomEstimatorQNN(trans_crc_qc, service, backend)\n",
    "\n",
    "# construct neural network classifier\n",
    "estimator_classifier = NeuralNetworkClassifier(\n",
    "    estimator_qnn, \n",
    "    optimizer=COBYLA(maxiter=cnt_wei_params * 3), \n",
    "    callback=saving_obj_vals\n",
    ")"
   ]
  },
  {
   "cell_type": "code",
   "execution_count": null,
   "metadata": {},
   "outputs": [],
   "source": [
    "# fit classifier to data\n",
    "estimator_classifier.fit(X_train[:15], Y_train[:15])\n",
    "\n",
    "# score classifier\n",
    "test_score3 = estimator_classifier.score(X_test, Y_test)\n",
    "print(f\"Test score: {test_score3}\")"
   ]
  },
  {
   "cell_type": "code",
   "execution_count": null,
   "metadata": {},
   "outputs": [],
   "source": [
    "plt.plot(range(1, len(objective_func_vals) + 1), objective_func_vals)\n",
    "plt.title(\"Objective function value against iteration\")\n",
    "plt.xlabel(\"Iteration\")\n",
    "plt.ylabel(\"Objective function value\")\n",
    "plt.show()"
   ]
  },
  {
   "cell_type": "markdown",
   "metadata": {},
   "source": [
    "## Writing Rresults in .csv File"
   ]
  },
  {
   "cell_type": "code",
   "execution_count": null,
   "metadata": {},
   "outputs": [],
   "source": [
    "import pandas as pd\n",
    "\n",
    "ansatz_name = ANSATZ_NAME\n",
    "result_path = r\"C:\\Users\\conta\\D\\MTech\\sem5\\QML\\project\\qml_proj\\results.csv\"\n",
    "\n",
    "data = {\n",
    "    'Ansatz Name': [ansatz_name]*3, \n",
    "    'Encoding': ENCODING, \n",
    "    'Depth': DEPTH, \n",
    "    'test_score': [test_score1, test_score2, test_score3]\n",
    "    }\n",
    "\n",
    "df = pd.DataFrame(data)\n",
    "\n",
    "if os.path.exists(result_path):\n",
    "    df_existing = pd.read_csv(result_path)\n",
    "else:\n",
    "    df_existing = pd.DataFrame()\n",
    "\n",
    "\n",
    "df_res = pd.concat([df_existing, df], ignore_index=True)\n",
    "df_res.to_csv(result_path, index=False)"
   ]
  },
  {
   "cell_type": "code",
   "execution_count": null,
   "metadata": {},
   "outputs": [],
   "source": []
  }
 ],
 "metadata": {
  "kernelspec": {
   "display_name": "qml1",
   "language": "python",
   "name": "python3"
  },
  "language_info": {
   "codemirror_mode": {
    "name": "ipython",
    "version": 3
   },
   "file_extension": ".py",
   "mimetype": "text/x-python",
   "name": "python",
   "nbconvert_exporter": "python",
   "pygments_lexer": "ipython3",
   "version": "3.10.14"
  }
 },
 "nbformat": 4,
 "nbformat_minor": 2
}
